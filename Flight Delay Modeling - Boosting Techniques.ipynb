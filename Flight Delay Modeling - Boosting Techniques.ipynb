{
 "cells": [
  {
   "cell_type": "markdown",
   "id": "56a5ed4b",
   "metadata": {},
   "source": [
    "### Import Libraries"
   ]
  },
  {
   "cell_type": "code",
   "execution_count": null,
   "id": "28bbeadf",
   "metadata": {},
   "outputs": [],
   "source": [
    "import numpy as np\n",
    "import pandas as pd\n",
    "import csv"
   ]
  },
  {
   "cell_type": "code",
   "execution_count": 57,
   "id": "32d17106",
   "metadata": {},
   "outputs": [],
   "source": [
    "import warnings\n",
    "warnings.filterwarnings('ignore')"
   ]
  },
  {
   "cell_type": "code",
   "execution_count": 125,
   "id": "796f84fa",
   "metadata": {},
   "outputs": [],
   "source": [
    "from sklearn.model_selection import train_test_split\n",
    "from sklearn.model_selection import cross_val_score\n",
    "from sklearn.model_selection import RepeatedStratifiedKFold\n",
    "from sklearn.ensemble import AdaBoostClassifier\n",
    "from sklearn.model_selection import cross_validate\n",
    "from sklearn.metrics import confusion_matrix, roc_curve\n",
    "from sklearn.model_selection import GridSearchCV\n",
    "import matplotlib.pyplot as plt\n",
    "import xgboost\n",
    "import pickle"
   ]
  },
  {
   "cell_type": "code",
   "execution_count": 127,
   "id": "204913d4",
   "metadata": {},
   "outputs": [],
   "source": [
    "from mlxtend.plotting import plot_confusion_matrix\n",
    "from sklearn.metrics import confusion_matrix\n",
    "from sklearn.metrics import classification_report\n",
    "from sklearn.metrics import roc_curve, auc"
   ]
  },
  {
   "cell_type": "code",
   "execution_count": 27,
   "id": "1411a8d7",
   "metadata": {},
   "outputs": [],
   "source": [
    "df = pd.read_csv('REFINED_FLIGHT_DATA.csv') #import refined dataset file "
   ]
  },
  {
   "cell_type": "code",
   "execution_count": 36,
   "id": "50f9cb70",
   "metadata": {},
   "outputs": [],
   "source": [
    "df = df[df.columns[1:]] #remove unwanted columns"
   ]
  },
  {
   "cell_type": "code",
   "execution_count": 37,
   "id": "2738396a",
   "metadata": {},
   "outputs": [
    {
     "data": {
      "text/html": [
       "<div>\n",
       "<style scoped>\n",
       "    .dataframe tbody tr th:only-of-type {\n",
       "        vertical-align: middle;\n",
       "    }\n",
       "\n",
       "    .dataframe tbody tr th {\n",
       "        vertical-align: top;\n",
       "    }\n",
       "\n",
       "    .dataframe thead th {\n",
       "        text-align: right;\n",
       "    }\n",
       "</style>\n",
       "<table border=\"1\" class=\"dataframe\">\n",
       "  <thead>\n",
       "    <tr style=\"text-align: right;\">\n",
       "      <th></th>\n",
       "      <th>YEAR</th>\n",
       "      <th>QUARTER</th>\n",
       "      <th>MONTH</th>\n",
       "      <th>DAY_OF_MONTH</th>\n",
       "      <th>DAY_OF_WEEK</th>\n",
       "      <th>DEP_DELAY_GROUP</th>\n",
       "      <th>TAXI_OUT</th>\n",
       "      <th>AIR_TIME</th>\n",
       "      <th>FLIGHTS</th>\n",
       "      <th>OP_UNIQUE_CARRIER</th>\n",
       "      <th>TAIL_NUM</th>\n",
       "      <th>ORIGIN</th>\n",
       "      <th>ORIGIN_STATE_NM</th>\n",
       "      <th>DEST</th>\n",
       "      <th>DEST_STATE_NM</th>\n",
       "      <th>ARR_DEL15</th>\n",
       "    </tr>\n",
       "  </thead>\n",
       "  <tbody>\n",
       "    <tr>\n",
       "      <th>0</th>\n",
       "      <td>2021.0</td>\n",
       "      <td>4.0</td>\n",
       "      <td>10.0</td>\n",
       "      <td>16.0</td>\n",
       "      <td>6.0</td>\n",
       "      <td>0.0</td>\n",
       "      <td>13.000000</td>\n",
       "      <td>54.0</td>\n",
       "      <td>1.0</td>\n",
       "      <td>10.0</td>\n",
       "      <td>3130.0</td>\n",
       "      <td>98.0</td>\n",
       "      <td>43.0</td>\n",
       "      <td>203.0</td>\n",
       "      <td>17.0</td>\n",
       "      <td>0.0</td>\n",
       "    </tr>\n",
       "    <tr>\n",
       "      <th>1</th>\n",
       "      <td>2022.0</td>\n",
       "      <td>1.0</td>\n",
       "      <td>3.0</td>\n",
       "      <td>2.0</td>\n",
       "      <td>3.0</td>\n",
       "      <td>-1.0</td>\n",
       "      <td>26.000000</td>\n",
       "      <td>167.0</td>\n",
       "      <td>1.0</td>\n",
       "      <td>5.0</td>\n",
       "      <td>382.0</td>\n",
       "      <td>106.0</td>\n",
       "      <td>21.0</td>\n",
       "      <td>311.0</td>\n",
       "      <td>43.0</td>\n",
       "      <td>0.0</td>\n",
       "    </tr>\n",
       "    <tr>\n",
       "      <th>2</th>\n",
       "      <td>2021.0</td>\n",
       "      <td>4.0</td>\n",
       "      <td>10.0</td>\n",
       "      <td>24.0</td>\n",
       "      <td>7.0</td>\n",
       "      <td>-1.0</td>\n",
       "      <td>16.000000</td>\n",
       "      <td>119.0</td>\n",
       "      <td>1.0</td>\n",
       "      <td>17.0</td>\n",
       "      <td>1031.0</td>\n",
       "      <td>46.0</td>\n",
       "      <td>42.0</td>\n",
       "      <td>311.0</td>\n",
       "      <td>43.0</td>\n",
       "      <td>0.0</td>\n",
       "    </tr>\n",
       "    <tr>\n",
       "      <th>3</th>\n",
       "      <td>2021.0</td>\n",
       "      <td>4.0</td>\n",
       "      <td>12.0</td>\n",
       "      <td>27.0</td>\n",
       "      <td>1.0</td>\n",
       "      <td>-1.0</td>\n",
       "      <td>16.737944</td>\n",
       "      <td>91.0</td>\n",
       "      <td>1.0</td>\n",
       "      <td>7.0</td>\n",
       "      <td>95.0</td>\n",
       "      <td>118.0</td>\n",
       "      <td>36.0</td>\n",
       "      <td>198.0</td>\n",
       "      <td>4.0</td>\n",
       "      <td>0.0</td>\n",
       "    </tr>\n",
       "    <tr>\n",
       "      <th>4</th>\n",
       "      <td>2022.0</td>\n",
       "      <td>1.0</td>\n",
       "      <td>3.0</td>\n",
       "      <td>21.0</td>\n",
       "      <td>1.0</td>\n",
       "      <td>0.0</td>\n",
       "      <td>17.000000</td>\n",
       "      <td>127.0</td>\n",
       "      <td>1.0</td>\n",
       "      <td>5.0</td>\n",
       "      <td>1753.0</td>\n",
       "      <td>321.0</td>\n",
       "      <td>49.0</td>\n",
       "      <td>310.0</td>\n",
       "      <td>4.0</td>\n",
       "      <td>0.0</td>\n",
       "    </tr>\n",
       "    <tr>\n",
       "      <th>5</th>\n",
       "      <td>2021.0</td>\n",
       "      <td>4.0</td>\n",
       "      <td>10.0</td>\n",
       "      <td>19.0</td>\n",
       "      <td>2.0</td>\n",
       "      <td>-1.0</td>\n",
       "      <td>19.000000</td>\n",
       "      <td>62.0</td>\n",
       "      <td>1.0</td>\n",
       "      <td>13.0</td>\n",
       "      <td>452.0</td>\n",
       "      <td>257.0</td>\n",
       "      <td>12.0</td>\n",
       "      <td>278.0</td>\n",
       "      <td>37.0</td>\n",
       "      <td>0.0</td>\n",
       "    </tr>\n",
       "    <tr>\n",
       "      <th>6</th>\n",
       "      <td>2021.0</td>\n",
       "      <td>3.0</td>\n",
       "      <td>9.0</td>\n",
       "      <td>27.0</td>\n",
       "      <td>1.0</td>\n",
       "      <td>-1.0</td>\n",
       "      <td>7.000000</td>\n",
       "      <td>38.0</td>\n",
       "      <td>1.0</td>\n",
       "      <td>17.0</td>\n",
       "      <td>4682.0</td>\n",
       "      <td>91.0</td>\n",
       "      <td>43.0</td>\n",
       "      <td>162.0</td>\n",
       "      <td>43.0</td>\n",
       "      <td>0.0</td>\n",
       "    </tr>\n",
       "    <tr>\n",
       "      <th>7</th>\n",
       "      <td>2022.0</td>\n",
       "      <td>1.0</td>\n",
       "      <td>2.0</td>\n",
       "      <td>15.0</td>\n",
       "      <td>2.0</td>\n",
       "      <td>-1.0</td>\n",
       "      <td>14.000000</td>\n",
       "      <td>148.0</td>\n",
       "      <td>1.0</td>\n",
       "      <td>17.0</td>\n",
       "      <td>4024.0</td>\n",
       "      <td>231.0</td>\n",
       "      <td>8.0</td>\n",
       "      <td>162.0</td>\n",
       "      <td>43.0</td>\n",
       "      <td>0.0</td>\n",
       "    </tr>\n",
       "    <tr>\n",
       "      <th>8</th>\n",
       "      <td>2021.0</td>\n",
       "      <td>3.0</td>\n",
       "      <td>9.0</td>\n",
       "      <td>16.0</td>\n",
       "      <td>4.0</td>\n",
       "      <td>-1.0</td>\n",
       "      <td>16.000000</td>\n",
       "      <td>88.0</td>\n",
       "      <td>1.0</td>\n",
       "      <td>1.0</td>\n",
       "      <td>5227.0</td>\n",
       "      <td>231.0</td>\n",
       "      <td>8.0</td>\n",
       "      <td>23.0</td>\n",
       "      <td>9.0</td>\n",
       "      <td>0.0</td>\n",
       "    </tr>\n",
       "    <tr>\n",
       "      <th>9</th>\n",
       "      <td>2021.0</td>\n",
       "      <td>4.0</td>\n",
       "      <td>12.0</td>\n",
       "      <td>25.0</td>\n",
       "      <td>6.0</td>\n",
       "      <td>1.0</td>\n",
       "      <td>8.000000</td>\n",
       "      <td>45.0</td>\n",
       "      <td>1.0</td>\n",
       "      <td>17.0</td>\n",
       "      <td>4236.0</td>\n",
       "      <td>256.0</td>\n",
       "      <td>4.0</td>\n",
       "      <td>272.0</td>\n",
       "      <td>2.0</td>\n",
       "      <td>0.0</td>\n",
       "    </tr>\n",
       "  </tbody>\n",
       "</table>\n",
       "</div>"
      ],
      "text/plain": [
       "     YEAR  QUARTER  MONTH  DAY_OF_MONTH  DAY_OF_WEEK  DEP_DELAY_GROUP  \\\n",
       "0  2021.0      4.0   10.0          16.0          6.0              0.0   \n",
       "1  2022.0      1.0    3.0           2.0          3.0             -1.0   \n",
       "2  2021.0      4.0   10.0          24.0          7.0             -1.0   \n",
       "3  2021.0      4.0   12.0          27.0          1.0             -1.0   \n",
       "4  2022.0      1.0    3.0          21.0          1.0              0.0   \n",
       "5  2021.0      4.0   10.0          19.0          2.0             -1.0   \n",
       "6  2021.0      3.0    9.0          27.0          1.0             -1.0   \n",
       "7  2022.0      1.0    2.0          15.0          2.0             -1.0   \n",
       "8  2021.0      3.0    9.0          16.0          4.0             -1.0   \n",
       "9  2021.0      4.0   12.0          25.0          6.0              1.0   \n",
       "\n",
       "    TAXI_OUT  AIR_TIME  FLIGHTS  OP_UNIQUE_CARRIER  TAIL_NUM  ORIGIN  \\\n",
       "0  13.000000      54.0      1.0               10.0    3130.0    98.0   \n",
       "1  26.000000     167.0      1.0                5.0     382.0   106.0   \n",
       "2  16.000000     119.0      1.0               17.0    1031.0    46.0   \n",
       "3  16.737944      91.0      1.0                7.0      95.0   118.0   \n",
       "4  17.000000     127.0      1.0                5.0    1753.0   321.0   \n",
       "5  19.000000      62.0      1.0               13.0     452.0   257.0   \n",
       "6   7.000000      38.0      1.0               17.0    4682.0    91.0   \n",
       "7  14.000000     148.0      1.0               17.0    4024.0   231.0   \n",
       "8  16.000000      88.0      1.0                1.0    5227.0   231.0   \n",
       "9   8.000000      45.0      1.0               17.0    4236.0   256.0   \n",
       "\n",
       "   ORIGIN_STATE_NM   DEST  DEST_STATE_NM  ARR_DEL15  \n",
       "0             43.0  203.0           17.0        0.0  \n",
       "1             21.0  311.0           43.0        0.0  \n",
       "2             42.0  311.0           43.0        0.0  \n",
       "3             36.0  198.0            4.0        0.0  \n",
       "4             49.0  310.0            4.0        0.0  \n",
       "5             12.0  278.0           37.0        0.0  \n",
       "6             43.0  162.0           43.0        0.0  \n",
       "7              8.0  162.0           43.0        0.0  \n",
       "8              8.0   23.0            9.0        0.0  \n",
       "9              4.0  272.0            2.0        0.0  "
      ]
     },
     "execution_count": 37,
     "metadata": {},
     "output_type": "execute_result"
    }
   ],
   "source": [
    "df.head(10)"
   ]
  },
  {
   "cell_type": "code",
   "execution_count": 43,
   "id": "5f633278",
   "metadata": {},
   "outputs": [],
   "source": [
    "data = df[df.columns[:-1]] #get data df "
   ]
  },
  {
   "cell_type": "code",
   "execution_count": 45,
   "id": "034d076b",
   "metadata": {},
   "outputs": [],
   "source": [
    "label = df[df.columns[-1]] #get label df "
   ]
  },
  {
   "cell_type": "code",
   "execution_count": 48,
   "id": "72f507d6",
   "metadata": {},
   "outputs": [],
   "source": [
    "X = np.array(data)"
   ]
  },
  {
   "cell_type": "code",
   "execution_count": 49,
   "id": "acac0e80",
   "metadata": {},
   "outputs": [],
   "source": [
    "y = np.array(label)"
   ]
  },
  {
   "cell_type": "markdown",
   "id": "85596b1b",
   "metadata": {},
   "source": [
    "### Perform stratified train test split"
   ]
  },
  {
   "cell_type": "code",
   "execution_count": 52,
   "id": "f29f8d12",
   "metadata": {},
   "outputs": [],
   "source": [
    "X_train, X_test, y_train, y_test = train_test_split(X, y, test_size = 0.25, random_state = 1008, shuffle = True, stratify = y)"
   ]
  },
  {
   "cell_type": "code",
   "execution_count": 79,
   "id": "48ea8d68",
   "metadata": {},
   "outputs": [],
   "source": [
    "cv = RepeatedStratifiedKFold(n_splits=10, n_repeats=3, random_state=1008)"
   ]
  },
  {
   "cell_type": "code",
   "execution_count": 99,
   "id": "1ade52e2",
   "metadata": {},
   "outputs": [],
   "source": [
    "adaboost = AdaBoostClassifier()"
   ]
  },
  {
   "cell_type": "code",
   "execution_count": 100,
   "id": "73711867",
   "metadata": {},
   "outputs": [],
   "source": [
    "param_grid = { \"n_estimators\": [12, 24, 48, 76]}"
   ]
  },
  {
   "cell_type": "markdown",
   "id": "ab394e3d",
   "metadata": {},
   "source": [
    "### Perform Grid Search CV for AdaBoost Classifier"
   ]
  },
  {
   "cell_type": "code",
   "execution_count": 107,
   "id": "18195108",
   "metadata": {},
   "outputs": [],
   "source": [
    "adb_cv = GridSearchCV(estimator = adaboost, param_grid=param_grid, cv = cv,verbose = 10,n_jobs = 1)"
   ]
  },
  {
   "cell_type": "code",
   "execution_count": 108,
   "id": "fd301c0a",
   "metadata": {},
   "outputs": [
    {
     "name": "stdout",
     "output_type": "stream",
     "text": [
      "Fitting 30 folds for each of 4 candidates, totalling 120 fits\n",
      "[CV 1/30; 1/4] START n_estimators=12............................................\n",
      "[CV 1/30; 1/4] END .............n_estimators=12;, score=0.888 total time=  13.5s\n",
      "[CV 2/30; 1/4] START n_estimators=12............................................\n",
      "[CV 2/30; 1/4] END .............n_estimators=12;, score=0.888 total time=  13.4s\n",
      "[CV 3/30; 1/4] START n_estimators=12............................................\n",
      "[CV 3/30; 1/4] END .............n_estimators=12;, score=0.888 total time=  13.4s\n",
      "[CV 4/30; 1/4] START n_estimators=12............................................\n",
      "[CV 4/30; 1/4] END .............n_estimators=12;, score=0.888 total time=  13.3s\n",
      "[CV 5/30; 1/4] START n_estimators=12............................................\n",
      "[CV 5/30; 1/4] END .............n_estimators=12;, score=0.888 total time=  13.3s\n",
      "[CV 6/30; 1/4] START n_estimators=12............................................\n",
      "[CV 6/30; 1/4] END .............n_estimators=12;, score=0.888 total time=  13.3s\n",
      "[CV 7/30; 1/4] START n_estimators=12............................................\n",
      "[CV 7/30; 1/4] END .............n_estimators=12;, score=0.887 total time=  13.3s\n",
      "[CV 8/30; 1/4] START n_estimators=12............................................\n",
      "[CV 8/30; 1/4] END .............n_estimators=12;, score=0.888 total time=  13.3s\n",
      "[CV 9/30; 1/4] START n_estimators=12............................................\n",
      "[CV 9/30; 1/4] END .............n_estimators=12;, score=0.888 total time=  13.3s\n",
      "[CV 10/30; 1/4] START n_estimators=12...........................................\n",
      "[CV 10/30; 1/4] END ............n_estimators=12;, score=0.888 total time=  13.7s\n",
      "[CV 11/30; 1/4] START n_estimators=12...........................................\n",
      "[CV 11/30; 1/4] END ............n_estimators=12;, score=0.889 total time=  13.6s\n",
      "[CV 12/30; 1/4] START n_estimators=12...........................................\n",
      "[CV 12/30; 1/4] END ............n_estimators=12;, score=0.888 total time=  13.7s\n",
      "[CV 13/30; 1/4] START n_estimators=12...........................................\n",
      "[CV 13/30; 1/4] END ............n_estimators=12;, score=0.887 total time=  13.8s\n",
      "[CV 14/30; 1/4] START n_estimators=12...........................................\n",
      "[CV 14/30; 1/4] END ............n_estimators=12;, score=0.888 total time=  13.4s\n",
      "[CV 15/30; 1/4] START n_estimators=12...........................................\n",
      "[CV 15/30; 1/4] END ............n_estimators=12;, score=0.888 total time=  13.8s\n",
      "[CV 16/30; 1/4] START n_estimators=12...........................................\n",
      "[CV 16/30; 1/4] END ............n_estimators=12;, score=0.887 total time=  13.9s\n",
      "[CV 17/30; 1/4] START n_estimators=12...........................................\n",
      "[CV 17/30; 1/4] END ............n_estimators=12;, score=0.888 total time=  13.3s\n",
      "[CV 18/30; 1/4] START n_estimators=12...........................................\n",
      "[CV 18/30; 1/4] END ............n_estimators=12;, score=0.886 total time=  13.6s\n",
      "[CV 19/30; 1/4] START n_estimators=12...........................................\n",
      "[CV 19/30; 1/4] END ............n_estimators=12;, score=0.888 total time=  13.4s\n",
      "[CV 20/30; 1/4] START n_estimators=12...........................................\n",
      "[CV 20/30; 1/4] END ............n_estimators=12;, score=0.887 total time=  13.3s\n",
      "[CV 21/30; 1/4] START n_estimators=12...........................................\n",
      "[CV 21/30; 1/4] END ............n_estimators=12;, score=0.888 total time=  13.4s\n",
      "[CV 22/30; 1/4] START n_estimators=12...........................................\n",
      "[CV 22/30; 1/4] END ............n_estimators=12;, score=0.888 total time=  13.5s\n",
      "[CV 23/30; 1/4] START n_estimators=12...........................................\n",
      "[CV 23/30; 1/4] END ............n_estimators=12;, score=0.888 total time=  13.4s\n",
      "[CV 24/30; 1/4] START n_estimators=12...........................................\n",
      "[CV 24/30; 1/4] END ............n_estimators=12;, score=0.887 total time=  13.8s\n",
      "[CV 25/30; 1/4] START n_estimators=12...........................................\n",
      "[CV 25/30; 1/4] END ............n_estimators=12;, score=0.889 total time=  13.8s\n",
      "[CV 26/30; 1/4] START n_estimators=12...........................................\n",
      "[CV 26/30; 1/4] END ............n_estimators=12;, score=0.887 total time=  14.2s\n",
      "[CV 27/30; 1/4] START n_estimators=12...........................................\n",
      "[CV 27/30; 1/4] END ............n_estimators=12;, score=0.888 total time=  13.8s\n",
      "[CV 28/30; 1/4] START n_estimators=12...........................................\n",
      "[CV 28/30; 1/4] END ............n_estimators=12;, score=0.888 total time=  13.8s\n",
      "[CV 29/30; 1/4] START n_estimators=12...........................................\n",
      "[CV 29/30; 1/4] END ............n_estimators=12;, score=0.888 total time=  14.4s\n",
      "[CV 30/30; 1/4] START n_estimators=12...........................................\n",
      "[CV 30/30; 1/4] END ............n_estimators=12;, score=0.887 total time=  13.8s\n",
      "[CV 1/30; 2/4] START n_estimators=24............................................\n",
      "[CV 1/30; 2/4] END .............n_estimators=24;, score=0.892 total time=  27.4s\n",
      "[CV 2/30; 2/4] START n_estimators=24............................................\n",
      "[CV 2/30; 2/4] END .............n_estimators=24;, score=0.893 total time=  27.0s\n",
      "[CV 3/30; 2/4] START n_estimators=24............................................\n",
      "[CV 3/30; 2/4] END .............n_estimators=24;, score=0.893 total time=  26.8s\n",
      "[CV 4/30; 2/4] START n_estimators=24............................................\n",
      "[CV 4/30; 2/4] END .............n_estimators=24;, score=0.893 total time=  26.7s\n",
      "[CV 5/30; 2/4] START n_estimators=24............................................\n",
      "[CV 5/30; 2/4] END .............n_estimators=24;, score=0.893 total time=  26.7s\n",
      "[CV 6/30; 2/4] START n_estimators=24............................................\n",
      "[CV 6/30; 2/4] END .............n_estimators=24;, score=0.893 total time=  26.6s\n",
      "[CV 7/30; 2/4] START n_estimators=24............................................\n",
      "[CV 7/30; 2/4] END .............n_estimators=24;, score=0.892 total time=  26.7s\n",
      "[CV 8/30; 2/4] START n_estimators=24............................................\n",
      "[CV 8/30; 2/4] END .............n_estimators=24;, score=0.892 total time=  26.6s\n",
      "[CV 9/30; 2/4] START n_estimators=24............................................\n",
      "[CV 9/30; 2/4] END .............n_estimators=24;, score=0.892 total time=  26.6s\n",
      "[CV 10/30; 2/4] START n_estimators=24...........................................\n",
      "[CV 10/30; 2/4] END ............n_estimators=24;, score=0.894 total time=  26.9s\n",
      "[CV 11/30; 2/4] START n_estimators=24...........................................\n",
      "[CV 11/30; 2/4] END ............n_estimators=24;, score=0.894 total time=  26.8s\n",
      "[CV 12/30; 2/4] START n_estimators=24...........................................\n",
      "[CV 12/30; 2/4] END ............n_estimators=24;, score=0.893 total time=  27.3s\n",
      "[CV 13/30; 2/4] START n_estimators=24...........................................\n",
      "[CV 13/30; 2/4] END ............n_estimators=24;, score=0.893 total time=  26.8s\n",
      "[CV 14/30; 2/4] START n_estimators=24...........................................\n",
      "[CV 14/30; 2/4] END ............n_estimators=24;, score=0.893 total time=  26.7s\n",
      "[CV 15/30; 2/4] START n_estimators=24...........................................\n",
      "[CV 15/30; 2/4] END ............n_estimators=24;, score=0.893 total time=  27.1s\n",
      "[CV 16/30; 2/4] START n_estimators=24...........................................\n",
      "[CV 16/30; 2/4] END ............n_estimators=24;, score=0.893 total time=  26.8s\n",
      "[CV 17/30; 2/4] START n_estimators=24...........................................\n",
      "[CV 17/30; 2/4] END ............n_estimators=24;, score=0.893 total time=  26.7s\n",
      "[CV 18/30; 2/4] START n_estimators=24...........................................\n",
      "[CV 18/30; 2/4] END ............n_estimators=24;, score=0.892 total time=  26.7s\n",
      "[CV 19/30; 2/4] START n_estimators=24...........................................\n",
      "[CV 19/30; 2/4] END ............n_estimators=24;, score=0.893 total time=  26.7s\n",
      "[CV 20/30; 2/4] START n_estimators=24...........................................\n",
      "[CV 20/30; 2/4] END ............n_estimators=24;, score=0.892 total time=  27.1s\n",
      "[CV 21/30; 2/4] START n_estimators=24...........................................\n"
     ]
    },
    {
     "name": "stdout",
     "output_type": "stream",
     "text": [
      "[CV 21/30; 2/4] END ............n_estimators=24;, score=0.892 total time=  26.6s\n",
      "[CV 22/30; 2/4] START n_estimators=24...........................................\n",
      "[CV 22/30; 2/4] END ............n_estimators=24;, score=0.893 total time=  26.7s\n",
      "[CV 23/30; 2/4] START n_estimators=24...........................................\n",
      "[CV 23/30; 2/4] END ............n_estimators=24;, score=0.893 total time=  26.8s\n",
      "[CV 24/30; 2/4] START n_estimators=24...........................................\n",
      "[CV 24/30; 2/4] END ............n_estimators=24;, score=0.892 total time=  27.6s\n",
      "[CV 25/30; 2/4] START n_estimators=24...........................................\n",
      "[CV 25/30; 2/4] END ............n_estimators=24;, score=0.894 total time=  26.8s\n",
      "[CV 26/30; 2/4] START n_estimators=24...........................................\n",
      "[CV 26/30; 2/4] END ............n_estimators=24;, score=0.893 total time=  26.6s\n",
      "[CV 27/30; 2/4] START n_estimators=24...........................................\n",
      "[CV 27/30; 2/4] END ............n_estimators=24;, score=0.893 total time=  26.7s\n",
      "[CV 28/30; 2/4] START n_estimators=24...........................................\n",
      "[CV 28/30; 2/4] END ............n_estimators=24;, score=0.893 total time=  26.8s\n",
      "[CV 29/30; 2/4] START n_estimators=24...........................................\n",
      "[CV 29/30; 2/4] END ............n_estimators=24;, score=0.893 total time=  26.5s\n",
      "[CV 30/30; 2/4] START n_estimators=24...........................................\n",
      "[CV 30/30; 2/4] END ............n_estimators=24;, score=0.892 total time=  26.7s\n",
      "[CV 1/30; 3/4] START n_estimators=48............................................\n",
      "[CV 1/30; 3/4] END .............n_estimators=48;, score=0.897 total time=  53.7s\n",
      "[CV 2/30; 3/4] START n_estimators=48............................................\n",
      "[CV 2/30; 3/4] END .............n_estimators=48;, score=0.897 total time=  53.4s\n",
      "[CV 3/30; 3/4] START n_estimators=48............................................\n",
      "[CV 3/30; 3/4] END .............n_estimators=48;, score=0.897 total time=  53.4s\n",
      "[CV 4/30; 3/4] START n_estimators=48............................................\n",
      "[CV 4/30; 3/4] END .............n_estimators=48;, score=0.897 total time=  53.6s\n",
      "[CV 5/30; 3/4] START n_estimators=48............................................\n",
      "[CV 5/30; 3/4] END .............n_estimators=48;, score=0.897 total time=  53.4s\n",
      "[CV 6/30; 3/4] START n_estimators=48............................................\n",
      "[CV 6/30; 3/4] END .............n_estimators=48;, score=0.897 total time=  53.2s\n",
      "[CV 7/30; 3/4] START n_estimators=48............................................\n",
      "[CV 7/30; 3/4] END .............n_estimators=48;, score=0.896 total time=  53.2s\n",
      "[CV 8/30; 3/4] START n_estimators=48............................................\n",
      "[CV 8/30; 3/4] END .............n_estimators=48;, score=0.896 total time=  52.8s\n",
      "[CV 9/30; 3/4] START n_estimators=48............................................\n",
      "[CV 9/30; 3/4] END .............n_estimators=48;, score=0.896 total time=  53.3s\n",
      "[CV 10/30; 3/4] START n_estimators=48...........................................\n",
      "[CV 10/30; 3/4] END ............n_estimators=48;, score=0.897 total time=  54.0s\n",
      "[CV 11/30; 3/4] START n_estimators=48...........................................\n",
      "[CV 11/30; 3/4] END ............n_estimators=48;, score=0.898 total time=  52.6s\n",
      "[CV 12/30; 3/4] START n_estimators=48...........................................\n",
      "[CV 12/30; 3/4] END ............n_estimators=48;, score=0.897 total time=  53.0s\n",
      "[CV 13/30; 3/4] START n_estimators=48...........................................\n",
      "[CV 13/30; 3/4] END ............n_estimators=48;, score=0.897 total time=  53.7s\n",
      "[CV 14/30; 3/4] START n_estimators=48...........................................\n",
      "[CV 14/30; 3/4] END ............n_estimators=48;, score=0.897 total time=  53.4s\n",
      "[CV 15/30; 3/4] START n_estimators=48...........................................\n",
      "[CV 15/30; 3/4] END ............n_estimators=48;, score=0.897 total time=  53.2s\n",
      "[CV 16/30; 3/4] START n_estimators=48...........................................\n",
      "[CV 16/30; 3/4] END ............n_estimators=48;, score=0.897 total time=  53.6s\n",
      "[CV 17/30; 3/4] START n_estimators=48...........................................\n",
      "[CV 17/30; 3/4] END ............n_estimators=48;, score=0.897 total time=  54.0s\n",
      "[CV 18/30; 3/4] START n_estimators=48...........................................\n",
      "[CV 18/30; 3/4] END ............n_estimators=48;, score=0.896 total time=  54.0s\n",
      "[CV 19/30; 3/4] START n_estimators=48...........................................\n",
      "[CV 19/30; 3/4] END ............n_estimators=48;, score=0.897 total time=  54.0s\n",
      "[CV 20/30; 3/4] START n_estimators=48...........................................\n",
      "[CV 20/30; 3/4] END ............n_estimators=48;, score=0.896 total time=  53.9s\n",
      "[CV 21/30; 3/4] START n_estimators=48...........................................\n",
      "[CV 21/30; 3/4] END ............n_estimators=48;, score=0.897 total time=  53.4s\n",
      "[CV 22/30; 3/4] START n_estimators=48...........................................\n",
      "[CV 22/30; 3/4] END ............n_estimators=48;, score=0.897 total time=  53.9s\n",
      "[CV 23/30; 3/4] START n_estimators=48...........................................\n",
      "[CV 23/30; 3/4] END ............n_estimators=48;, score=0.898 total time=  53.5s\n",
      "[CV 24/30; 3/4] START n_estimators=48...........................................\n",
      "[CV 24/30; 3/4] END ............n_estimators=48;, score=0.896 total time=  53.5s\n",
      "[CV 25/30; 3/4] START n_estimators=48...........................................\n",
      "[CV 25/30; 3/4] END ............n_estimators=48;, score=0.897 total time=  54.5s\n",
      "[CV 26/30; 3/4] START n_estimators=48...........................................\n",
      "[CV 26/30; 3/4] END ............n_estimators=48;, score=0.897 total time=  54.1s\n",
      "[CV 27/30; 3/4] START n_estimators=48...........................................\n",
      "[CV 27/30; 3/4] END ............n_estimators=48;, score=0.897 total time=  53.7s\n",
      "[CV 28/30; 3/4] START n_estimators=48...........................................\n",
      "[CV 28/30; 3/4] END ............n_estimators=48;, score=0.897 total time=  53.3s\n",
      "[CV 29/30; 3/4] START n_estimators=48...........................................\n",
      "[CV 29/30; 3/4] END ............n_estimators=48;, score=0.897 total time=  54.3s\n",
      "[CV 30/30; 3/4] START n_estimators=48...........................................\n",
      "[CV 30/30; 3/4] END ............n_estimators=48;, score=0.896 total time=  53.8s\n",
      "[CV 1/30; 4/4] START n_estimators=76............................................\n",
      "[CV 1/30; 4/4] END .............n_estimators=76;, score=0.898 total time= 1.4min\n",
      "[CV 2/30; 4/4] START n_estimators=76............................................\n",
      "[CV 2/30; 4/4] END .............n_estimators=76;, score=0.898 total time= 1.4min\n",
      "[CV 3/30; 4/4] START n_estimators=76............................................\n",
      "[CV 3/30; 4/4] END .............n_estimators=76;, score=0.897 total time= 1.4min\n",
      "[CV 4/30; 4/4] START n_estimators=76............................................\n",
      "[CV 4/30; 4/4] END .............n_estimators=76;, score=0.898 total time= 1.4min\n",
      "[CV 5/30; 4/4] START n_estimators=76............................................\n",
      "[CV 5/30; 4/4] END .............n_estimators=76;, score=0.898 total time= 1.4min\n",
      "[CV 6/30; 4/4] START n_estimators=76............................................\n",
      "[CV 6/30; 4/4] END .............n_estimators=76;, score=0.898 total time= 1.4min\n",
      "[CV 7/30; 4/4] START n_estimators=76............................................\n",
      "[CV 7/30; 4/4] END .............n_estimators=76;, score=0.897 total time= 1.4min\n",
      "[CV 8/30; 4/4] START n_estimators=76............................................\n",
      "[CV 8/30; 4/4] END .............n_estimators=76;, score=0.898 total time= 1.4min\n",
      "[CV 9/30; 4/4] START n_estimators=76............................................\n",
      "[CV 9/30; 4/4] END .............n_estimators=76;, score=0.898 total time= 1.4min\n",
      "[CV 10/30; 4/4] START n_estimators=76...........................................\n",
      "[CV 10/30; 4/4] END ............n_estimators=76;, score=0.898 total time= 1.4min\n",
      "[CV 11/30; 4/4] START n_estimators=76...........................................\n",
      "[CV 11/30; 4/4] END ............n_estimators=76;, score=0.899 total time= 1.4min\n",
      "[CV 12/30; 4/4] START n_estimators=76...........................................\n"
     ]
    },
    {
     "name": "stdout",
     "output_type": "stream",
     "text": [
      "[CV 12/30; 4/4] END ............n_estimators=76;, score=0.898 total time= 1.4min\n",
      "[CV 13/30; 4/4] START n_estimators=76...........................................\n",
      "[CV 13/30; 4/4] END ............n_estimators=76;, score=0.898 total time= 1.4min\n",
      "[CV 14/30; 4/4] START n_estimators=76...........................................\n",
      "[CV 14/30; 4/4] END ............n_estimators=76;, score=0.898 total time= 1.4min\n",
      "[CV 15/30; 4/4] START n_estimators=76...........................................\n",
      "[CV 15/30; 4/4] END ............n_estimators=76;, score=0.897 total time= 1.4min\n",
      "[CV 16/30; 4/4] START n_estimators=76...........................................\n",
      "[CV 16/30; 4/4] END ............n_estimators=76;, score=0.898 total time= 1.4min\n",
      "[CV 17/30; 4/4] START n_estimators=76...........................................\n",
      "[CV 17/30; 4/4] END ............n_estimators=76;, score=0.898 total time= 1.4min\n",
      "[CV 18/30; 4/4] START n_estimators=76...........................................\n",
      "[CV 18/30; 4/4] END ............n_estimators=76;, score=0.896 total time= 1.4min\n",
      "[CV 19/30; 4/4] START n_estimators=76...........................................\n",
      "[CV 19/30; 4/4] END ............n_estimators=76;, score=0.898 total time= 1.4min\n",
      "[CV 20/30; 4/4] START n_estimators=76...........................................\n",
      "[CV 20/30; 4/4] END ............n_estimators=76;, score=0.897 total time= 1.4min\n",
      "[CV 21/30; 4/4] START n_estimators=76...........................................\n",
      "[CV 21/30; 4/4] END ............n_estimators=76;, score=0.897 total time= 1.4min\n",
      "[CV 22/30; 4/4] START n_estimators=76...........................................\n",
      "[CV 22/30; 4/4] END ............n_estimators=76;, score=0.898 total time= 1.4min\n",
      "[CV 23/30; 4/4] START n_estimators=76...........................................\n",
      "[CV 23/30; 4/4] END ............n_estimators=76;, score=0.898 total time= 1.4min\n",
      "[CV 24/30; 4/4] START n_estimators=76...........................................\n",
      "[CV 24/30; 4/4] END ............n_estimators=76;, score=0.897 total time= 1.4min\n",
      "[CV 25/30; 4/4] START n_estimators=76...........................................\n",
      "[CV 25/30; 4/4] END ............n_estimators=76;, score=0.898 total time= 1.4min\n",
      "[CV 26/30; 4/4] START n_estimators=76...........................................\n",
      "[CV 26/30; 4/4] END ............n_estimators=76;, score=0.898 total time= 1.4min\n",
      "[CV 27/30; 4/4] START n_estimators=76...........................................\n",
      "[CV 27/30; 4/4] END ............n_estimators=76;, score=0.898 total time= 1.5min\n",
      "[CV 28/30; 4/4] START n_estimators=76...........................................\n",
      "[CV 28/30; 4/4] END ............n_estimators=76;, score=0.898 total time= 1.4min\n",
      "[CV 29/30; 4/4] START n_estimators=76...........................................\n",
      "[CV 29/30; 4/4] END ............n_estimators=76;, score=0.897 total time= 1.4min\n",
      "[CV 30/30; 4/4] START n_estimators=76...........................................\n",
      "[CV 30/30; 4/4] END ............n_estimators=76;, score=0.897 total time= 1.4min\n"
     ]
    },
    {
     "data": {
      "text/html": [
       "<style>#sk-container-id-1 {color: black;background-color: white;}#sk-container-id-1 pre{padding: 0;}#sk-container-id-1 div.sk-toggleable {background-color: white;}#sk-container-id-1 label.sk-toggleable__label {cursor: pointer;display: block;width: 100%;margin-bottom: 0;padding: 0.3em;box-sizing: border-box;text-align: center;}#sk-container-id-1 label.sk-toggleable__label-arrow:before {content: \"▸\";float: left;margin-right: 0.25em;color: #696969;}#sk-container-id-1 label.sk-toggleable__label-arrow:hover:before {color: black;}#sk-container-id-1 div.sk-estimator:hover label.sk-toggleable__label-arrow:before {color: black;}#sk-container-id-1 div.sk-toggleable__content {max-height: 0;max-width: 0;overflow: hidden;text-align: left;background-color: #f0f8ff;}#sk-container-id-1 div.sk-toggleable__content pre {margin: 0.2em;color: black;border-radius: 0.25em;background-color: #f0f8ff;}#sk-container-id-1 input.sk-toggleable__control:checked~div.sk-toggleable__content {max-height: 200px;max-width: 100%;overflow: auto;}#sk-container-id-1 input.sk-toggleable__control:checked~label.sk-toggleable__label-arrow:before {content: \"▾\";}#sk-container-id-1 div.sk-estimator input.sk-toggleable__control:checked~label.sk-toggleable__label {background-color: #d4ebff;}#sk-container-id-1 div.sk-label input.sk-toggleable__control:checked~label.sk-toggleable__label {background-color: #d4ebff;}#sk-container-id-1 input.sk-hidden--visually {border: 0;clip: rect(1px 1px 1px 1px);clip: rect(1px, 1px, 1px, 1px);height: 1px;margin: -1px;overflow: hidden;padding: 0;position: absolute;width: 1px;}#sk-container-id-1 div.sk-estimator {font-family: monospace;background-color: #f0f8ff;border: 1px dotted black;border-radius: 0.25em;box-sizing: border-box;margin-bottom: 0.5em;}#sk-container-id-1 div.sk-estimator:hover {background-color: #d4ebff;}#sk-container-id-1 div.sk-parallel-item::after {content: \"\";width: 100%;border-bottom: 1px solid gray;flex-grow: 1;}#sk-container-id-1 div.sk-label:hover label.sk-toggleable__label {background-color: #d4ebff;}#sk-container-id-1 div.sk-serial::before {content: \"\";position: absolute;border-left: 1px solid gray;box-sizing: border-box;top: 0;bottom: 0;left: 50%;z-index: 0;}#sk-container-id-1 div.sk-serial {display: flex;flex-direction: column;align-items: center;background-color: white;padding-right: 0.2em;padding-left: 0.2em;position: relative;}#sk-container-id-1 div.sk-item {position: relative;z-index: 1;}#sk-container-id-1 div.sk-parallel {display: flex;align-items: stretch;justify-content: center;background-color: white;position: relative;}#sk-container-id-1 div.sk-item::before, #sk-container-id-1 div.sk-parallel-item::before {content: \"\";position: absolute;border-left: 1px solid gray;box-sizing: border-box;top: 0;bottom: 0;left: 50%;z-index: -1;}#sk-container-id-1 div.sk-parallel-item {display: flex;flex-direction: column;z-index: 1;position: relative;background-color: white;}#sk-container-id-1 div.sk-parallel-item:first-child::after {align-self: flex-end;width: 50%;}#sk-container-id-1 div.sk-parallel-item:last-child::after {align-self: flex-start;width: 50%;}#sk-container-id-1 div.sk-parallel-item:only-child::after {width: 0;}#sk-container-id-1 div.sk-dashed-wrapped {border: 1px dashed gray;margin: 0 0.4em 0.5em 0.4em;box-sizing: border-box;padding-bottom: 0.4em;background-color: white;}#sk-container-id-1 div.sk-label label {font-family: monospace;font-weight: bold;display: inline-block;line-height: 1.2em;}#sk-container-id-1 div.sk-label-container {text-align: center;}#sk-container-id-1 div.sk-container {/* jupyter's `normalize.less` sets `[hidden] { display: none; }` but bootstrap.min.css set `[hidden] { display: none !important; }` so we also need the `!important` here to be able to override the default hidden behavior on the sphinx rendered scikit-learn.org. See: https://github.com/scikit-learn/scikit-learn/issues/21755 */display: inline-block !important;position: relative;}#sk-container-id-1 div.sk-text-repr-fallback {display: none;}</style><div id=\"sk-container-id-1\" class=\"sk-top-container\"><div class=\"sk-text-repr-fallback\"><pre>GridSearchCV(cv=RepeatedStratifiedKFold(n_repeats=3, n_splits=10, random_state=1008),\n",
       "             estimator=AdaBoostClassifier(), n_jobs=1,\n",
       "             param_grid={&#x27;n_estimators&#x27;: [12, 24, 48, 76]}, verbose=10)</pre><b>In a Jupyter environment, please rerun this cell to show the HTML representation or trust the notebook. <br />On GitHub, the HTML representation is unable to render, please try loading this page with nbviewer.org.</b></div><div class=\"sk-container\" hidden><div class=\"sk-item sk-dashed-wrapped\"><div class=\"sk-label-container\"><div class=\"sk-label sk-toggleable\"><input class=\"sk-toggleable__control sk-hidden--visually\" id=\"sk-estimator-id-1\" type=\"checkbox\" ><label for=\"sk-estimator-id-1\" class=\"sk-toggleable__label sk-toggleable__label-arrow\">GridSearchCV</label><div class=\"sk-toggleable__content\"><pre>GridSearchCV(cv=RepeatedStratifiedKFold(n_repeats=3, n_splits=10, random_state=1008),\n",
       "             estimator=AdaBoostClassifier(), n_jobs=1,\n",
       "             param_grid={&#x27;n_estimators&#x27;: [12, 24, 48, 76]}, verbose=10)</pre></div></div></div><div class=\"sk-parallel\"><div class=\"sk-parallel-item\"><div class=\"sk-item\"><div class=\"sk-label-container\"><div class=\"sk-label sk-toggleable\"><input class=\"sk-toggleable__control sk-hidden--visually\" id=\"sk-estimator-id-2\" type=\"checkbox\" ><label for=\"sk-estimator-id-2\" class=\"sk-toggleable__label sk-toggleable__label-arrow\">estimator: AdaBoostClassifier</label><div class=\"sk-toggleable__content\"><pre>AdaBoostClassifier()</pre></div></div></div><div class=\"sk-serial\"><div class=\"sk-item\"><div class=\"sk-estimator sk-toggleable\"><input class=\"sk-toggleable__control sk-hidden--visually\" id=\"sk-estimator-id-3\" type=\"checkbox\" ><label for=\"sk-estimator-id-3\" class=\"sk-toggleable__label sk-toggleable__label-arrow\">AdaBoostClassifier</label><div class=\"sk-toggleable__content\"><pre>AdaBoostClassifier()</pre></div></div></div></div></div></div></div></div></div></div>"
      ],
      "text/plain": [
       "GridSearchCV(cv=RepeatedStratifiedKFold(n_repeats=3, n_splits=10, random_state=1008),\n",
       "             estimator=AdaBoostClassifier(), n_jobs=1,\n",
       "             param_grid={'n_estimators': [12, 24, 48, 76]}, verbose=10)"
      ]
     },
     "execution_count": 108,
     "metadata": {},
     "output_type": "execute_result"
    }
   ],
   "source": [
    "adb_cv.fit(X_train, y_train) #Do NOT retrain!"
   ]
  },
  {
   "cell_type": "code",
   "execution_count": 115,
   "id": "5e00172c",
   "metadata": {},
   "outputs": [
    {
     "data": {
      "text/plain": [
       "{'n_estimators': 76}"
      ]
     },
     "execution_count": 115,
     "metadata": {},
     "output_type": "execute_result"
    }
   ],
   "source": [
    "adaboost_best = adb_cv.best_estimator_\n",
    "adb_cv.best_params_"
   ]
  },
  {
   "cell_type": "code",
   "execution_count": 170,
   "id": "4794984e",
   "metadata": {},
   "outputs": [],
   "source": [
    "adaboost_best = pickle.load(open('adaboost.sav','rb'))"
   ]
  },
  {
   "cell_type": "code",
   "execution_count": null,
   "id": "bb024484",
   "metadata": {},
   "outputs": [],
   "source": [
    "# Calculate Score "
   ]
  },
  {
   "cell_type": "code",
   "execution_count": 145,
   "id": "1d1a7a6b",
   "metadata": {},
   "outputs": [
    {
     "data": {
      "text/plain": [
       "0.8976882309356189"
      ]
     },
     "execution_count": 145,
     "metadata": {},
     "output_type": "execute_result"
    }
   ],
   "source": [
    "adaboost_best.score(X_train,y_train)"
   ]
  },
  {
   "cell_type": "code",
   "execution_count": 113,
   "id": "9fece12d",
   "metadata": {},
   "outputs": [
    {
     "data": {
      "text/plain": [
       "0.8978937523621618"
      ]
     },
     "execution_count": 113,
     "metadata": {},
     "output_type": "execute_result"
    }
   ],
   "source": [
    "adaboost_best.score(X_test,y_test)"
   ]
  },
  {
   "cell_type": "code",
   "execution_count": 120,
   "id": "d6016b04",
   "metadata": {},
   "outputs": [],
   "source": [
    "y_pred_adb = adaboost_best.predict(X_test)"
   ]
  },
  {
   "cell_type": "code",
   "execution_count": 122,
   "id": "73296ddc",
   "metadata": {},
   "outputs": [],
   "source": [
    "cm = confusion_matrix(y_test, y_pred_adb)"
   ]
  },
  {
   "cell_type": "code",
   "execution_count": 123,
   "id": "328f287b",
   "metadata": {},
   "outputs": [
    {
     "name": "stdout",
     "output_type": "stream",
     "text": [
      "              precision    recall  f1-score   support\n",
      "\n",
      "         0.0       0.88      0.92      0.90    312214\n",
      "         1.0       0.91      0.88      0.90    312214\n",
      "\n",
      "    accuracy                           0.90    624428\n",
      "   macro avg       0.90      0.90      0.90    624428\n",
      "weighted avg       0.90      0.90      0.90    624428\n",
      "\n"
     ]
    }
   ],
   "source": [
    "print(classification_report(y_test, y_pred_adb))"
   ]
  },
  {
   "cell_type": "code",
   "execution_count": 129,
   "id": "1aff2a1c",
   "metadata": {},
   "outputs": [
    {
     "data": {
      "image/png": "[encoded data removed]",
      "text/plain": [
       "<Figure size 640x480 with 2 Axes>"
      ]
     },
     "metadata": {},
     "output_type": "display_data"
    }
   ],
   "source": [
    "fig, ax = plot_confusion_matrix(conf_mat=cm,cmap='inferno_r',colorbar=True)\n",
    "plt.title('Confusion Matrix for Adaboost Classifier (Delay - 1, No Delay - 0)')\n",
    "plt.show()"
   ]
  },
  {
   "cell_type": "code",
   "execution_count": 128,
   "id": "d7e5ef23",
   "metadata": {},
   "outputs": [
    {
     "name": "stdout",
     "output_type": "stream",
     "text": [
      "AUC % = 0.9558372430287695\n"
     ]
    },
    {
     "data": {
      "image/png": "[encoded data removed]",
      "text/plain": [
       "<Figure size 640x480 with 1 Axes>"
      ]
     },
     "metadata": {},
     "output_type": "display_data"
    }
   ],
   "source": [
    "# ROC Curve plotting for Adaboost \n",
    "probs = adaboost_best.predict_proba(X_test)  \n",
    "probs = probs[:, 1] \n",
    "fper, tper, thresholds = roc_curve(y_test, probs) \n",
    "plt.plot(fper, tper)\n",
    "print('AUC % = {}'.format(auc(fper, tper)))\n",
    "plt.plot([0,1], [0,1], 'k--')\n",
    "plt.xlabel('False Positive Rate')\n",
    "plt.ylabel('True Positive Rate')\n",
    "plt.title('Adaboost ROC curve ')\n",
    "# show the plot\n",
    "plt.show()"
   ]
  },
  {
   "cell_type": "code",
   "execution_count": 130,
   "id": "10f670b8",
   "metadata": {},
   "outputs": [],
   "source": [
    "cv = RepeatedStratifiedKFold(n_splits = 8, n_repeats=3, random_state=1008)"
   ]
  },
  {
   "cell_type": "code",
   "execution_count": 141,
   "id": "6f44016e",
   "metadata": {},
   "outputs": [],
   "source": [
    "param_grid = { \"learning_rate\": [0.05], \n",
    "               \"n_estimators\": [64, 96, 128]}"
   ]
  },
  {
   "cell_type": "code",
   "execution_count": 142,
   "id": "2eee7aed",
   "metadata": {},
   "outputs": [],
   "source": [
    "xgb = xgboost.XGBClassifier()"
   ]
  },
  {
   "cell_type": "code",
   "execution_count": 143,
   "id": "1ac0c2f5",
   "metadata": {},
   "outputs": [],
   "source": [
    "xgb_cv = GridSearchCV(estimator = xgb, param_grid=param_grid, cv = cv,verbose = 10,n_jobs = 1)"
   ]
  },
  {
   "cell_type": "code",
   "execution_count": 144,
   "id": "30e33b0c",
   "metadata": {},
   "outputs": [
    {
     "name": "stdout",
     "output_type": "stream",
     "text": [
      "Fitting 24 folds for each of 3 candidates, totalling 72 fits\n",
      "[CV 1/24; 1/3] START learning_rate=0.05, n_estimators=64........................\n",
      "[CV 1/24; 1/3] END learning_rate=0.05, n_estimators=64;, score=0.899 total time=  28.3s\n",
      "[CV 2/24; 1/3] START learning_rate=0.05, n_estimators=64........................\n",
      "[CV 2/24; 1/3] END learning_rate=0.05, n_estimators=64;, score=0.899 total time=  29.0s\n",
      "[CV 3/24; 1/3] START learning_rate=0.05, n_estimators=64........................\n",
      "[CV 3/24; 1/3] END learning_rate=0.05, n_estimators=64;, score=0.899 total time=  29.9s\n",
      "[CV 4/24; 1/3] START learning_rate=0.05, n_estimators=64........................\n",
      "[CV 4/24; 1/3] END learning_rate=0.05, n_estimators=64;, score=0.898 total time=  30.7s\n",
      "[CV 5/24; 1/3] START learning_rate=0.05, n_estimators=64........................\n",
      "[CV 5/24; 1/3] END learning_rate=0.05, n_estimators=64;, score=0.898 total time=  31.2s\n",
      "[CV 6/24; 1/3] START learning_rate=0.05, n_estimators=64........................\n",
      "[CV 6/24; 1/3] END learning_rate=0.05, n_estimators=64;, score=0.898 total time=  31.8s\n",
      "[CV 7/24; 1/3] START learning_rate=0.05, n_estimators=64........................\n",
      "[CV 7/24; 1/3] END learning_rate=0.05, n_estimators=64;, score=0.899 total time=  32.1s\n",
      "[CV 8/24; 1/3] START learning_rate=0.05, n_estimators=64........................\n",
      "[CV 8/24; 1/3] END learning_rate=0.05, n_estimators=64;, score=0.898 total time=  32.3s\n",
      "[CV 9/24; 1/3] START learning_rate=0.05, n_estimators=64........................\n",
      "[CV 9/24; 1/3] END learning_rate=0.05, n_estimators=64;, score=0.899 total time=  32.5s\n",
      "[CV 10/24; 1/3] START learning_rate=0.05, n_estimators=64.......................\n",
      "[CV 10/24; 1/3] END learning_rate=0.05, n_estimators=64;, score=0.898 total time=  31.9s\n",
      "[CV 11/24; 1/3] START learning_rate=0.05, n_estimators=64.......................\n",
      "[CV 11/24; 1/3] END learning_rate=0.05, n_estimators=64;, score=0.899 total time=  32.0s\n",
      "[CV 12/24; 1/3] START learning_rate=0.05, n_estimators=64.......................\n",
      "[CV 12/24; 1/3] END learning_rate=0.05, n_estimators=64;, score=0.898 total time=  32.2s\n",
      "[CV 13/24; 1/3] START learning_rate=0.05, n_estimators=64.......................\n",
      "[CV 13/24; 1/3] END learning_rate=0.05, n_estimators=64;, score=0.899 total time=  32.5s\n",
      "[CV 14/24; 1/3] START learning_rate=0.05, n_estimators=64.......................\n",
      "[CV 14/24; 1/3] END learning_rate=0.05, n_estimators=64;, score=0.897 total time=  32.2s\n",
      "[CV 15/24; 1/3] START learning_rate=0.05, n_estimators=64.......................\n",
      "[CV 15/24; 1/3] END learning_rate=0.05, n_estimators=64;, score=0.898 total time=  32.6s\n",
      "[CV 16/24; 1/3] START learning_rate=0.05, n_estimators=64.......................\n",
      "[CV 16/24; 1/3] END learning_rate=0.05, n_estimators=64;, score=0.898 total time=  32.8s\n",
      "[CV 17/24; 1/3] START learning_rate=0.05, n_estimators=64.......................\n",
      "[CV 17/24; 1/3] END learning_rate=0.05, n_estimators=64;, score=0.898 total time=  32.6s\n",
      "[CV 18/24; 1/3] START learning_rate=0.05, n_estimators=64.......................\n",
      "[CV 18/24; 1/3] END learning_rate=0.05, n_estimators=64;, score=0.899 total time=  32.6s\n",
      "[CV 19/24; 1/3] START learning_rate=0.05, n_estimators=64.......................\n",
      "[CV 19/24; 1/3] END learning_rate=0.05, n_estimators=64;, score=0.899 total time=  32.4s\n",
      "[CV 20/24; 1/3] START learning_rate=0.05, n_estimators=64.......................\n",
      "[CV 20/24; 1/3] END learning_rate=0.05, n_estimators=64;, score=0.898 total time=  32.5s\n",
      "[CV 21/24; 1/3] START learning_rate=0.05, n_estimators=64.......................\n",
      "[CV 21/24; 1/3] END learning_rate=0.05, n_estimators=64;, score=0.898 total time=  32.8s\n",
      "[CV 22/24; 1/3] START learning_rate=0.05, n_estimators=64.......................\n",
      "[CV 22/24; 1/3] END learning_rate=0.05, n_estimators=64;, score=0.899 total time=  32.6s\n",
      "[CV 23/24; 1/3] START learning_rate=0.05, n_estimators=64.......................\n",
      "[CV 23/24; 1/3] END learning_rate=0.05, n_estimators=64;, score=0.899 total time=  32.7s\n",
      "[CV 24/24; 1/3] START learning_rate=0.05, n_estimators=64.......................\n",
      "[CV 24/24; 1/3] END learning_rate=0.05, n_estimators=64;, score=0.898 total time=  32.7s\n",
      "[CV 1/24; 2/3] START learning_rate=0.05, n_estimators=96........................\n",
      "[CV 1/24; 2/3] END learning_rate=0.05, n_estimators=96;, score=0.900 total time=  50.9s\n",
      "[CV 2/24; 2/3] START learning_rate=0.05, n_estimators=96........................\n",
      "[CV 2/24; 2/3] END learning_rate=0.05, n_estimators=96;, score=0.899 total time=  49.8s\n",
      "[CV 3/24; 2/3] START learning_rate=0.05, n_estimators=96........................\n",
      "[CV 3/24; 2/3] END learning_rate=0.05, n_estimators=96;, score=0.899 total time=  49.5s\n",
      "[CV 4/24; 2/3] START learning_rate=0.05, n_estimators=96........................\n",
      "[CV 4/24; 2/3] END learning_rate=0.05, n_estimators=96;, score=0.899 total time= 1.7min\n",
      "[CV 5/24; 2/3] START learning_rate=0.05, n_estimators=96........................\n",
      "[CV 5/24; 2/3] END learning_rate=0.05, n_estimators=96;, score=0.898 total time=  46.5s\n",
      "[CV 6/24; 2/3] START learning_rate=0.05, n_estimators=96........................\n",
      "[CV 6/24; 2/3] END learning_rate=0.05, n_estimators=96;, score=0.899 total time= 5.0min\n",
      "[CV 7/24; 2/3] START learning_rate=0.05, n_estimators=96........................\n",
      "[CV 7/24; 2/3] END learning_rate=0.05, n_estimators=96;, score=0.900 total time= 2.3min\n",
      "[CV 8/24; 2/3] START learning_rate=0.05, n_estimators=96........................\n",
      "[CV 8/24; 2/3] END learning_rate=0.05, n_estimators=96;, score=0.899 total time=  45.5s\n",
      "[CV 9/24; 2/3] START learning_rate=0.05, n_estimators=96........................\n",
      "[CV 9/24; 2/3] END learning_rate=0.05, n_estimators=96;, score=0.900 total time=  45.6s\n",
      "[CV 10/24; 2/3] START learning_rate=0.05, n_estimators=96.......................\n",
      "[CV 10/24; 2/3] END learning_rate=0.05, n_estimators=96;, score=0.899 total time=  47.4s\n",
      "[CV 11/24; 2/3] START learning_rate=0.05, n_estimators=96.......................\n",
      "[CV 11/24; 2/3] END learning_rate=0.05, n_estimators=96;, score=0.900 total time=  47.0s\n",
      "[CV 12/24; 2/3] START learning_rate=0.05, n_estimators=96.......................\n",
      "[CV 12/24; 2/3] END learning_rate=0.05, n_estimators=96;, score=0.899 total time=  50.7s\n",
      "[CV 13/24; 2/3] START learning_rate=0.05, n_estimators=96.......................\n",
      "[CV 13/24; 2/3] END learning_rate=0.05, n_estimators=96;, score=0.900 total time=  52.7s\n",
      "[CV 14/24; 2/3] START learning_rate=0.05, n_estimators=96.......................\n",
      "[CV 14/24; 2/3] END learning_rate=0.05, n_estimators=96;, score=0.898 total time=  52.5s\n",
      "[CV 15/24; 2/3] START learning_rate=0.05, n_estimators=96.......................\n",
      "[CV 15/24; 2/3] END learning_rate=0.05, n_estimators=96;, score=0.899 total time=  52.6s\n",
      "[CV 16/24; 2/3] START learning_rate=0.05, n_estimators=96.......................\n",
      "[CV 16/24; 2/3] END learning_rate=0.05, n_estimators=96;, score=0.898 total time=  49.9s\n",
      "[CV 17/24; 2/3] START learning_rate=0.05, n_estimators=96.......................\n",
      "[CV 17/24; 2/3] END learning_rate=0.05, n_estimators=96;, score=0.899 total time=  51.6s\n",
      "[CV 18/24; 2/3] START learning_rate=0.05, n_estimators=96.......................\n",
      "[CV 18/24; 2/3] END learning_rate=0.05, n_estimators=96;, score=0.899 total time=  50.0s\n",
      "[CV 19/24; 2/3] START learning_rate=0.05, n_estimators=96.......................\n",
      "[CV 19/24; 2/3] END learning_rate=0.05, n_estimators=96;, score=0.899 total time=  50.9s\n",
      "[CV 20/24; 2/3] START learning_rate=0.05, n_estimators=96.......................\n",
      "[CV 20/24; 2/3] END learning_rate=0.05, n_estimators=96;, score=0.899 total time=  54.7s\n",
      "[CV 21/24; 2/3] START learning_rate=0.05, n_estimators=96.......................\n",
      "[CV 21/24; 2/3] END learning_rate=0.05, n_estimators=96;, score=0.899 total time=  49.3s\n",
      "[CV 22/24; 2/3] START learning_rate=0.05, n_estimators=96.......................\n",
      "[CV 22/24; 2/3] END learning_rate=0.05, n_estimators=96;, score=0.900 total time=  49.0s\n",
      "[CV 23/24; 2/3] START learning_rate=0.05, n_estimators=96.......................\n",
      "[CV 23/24; 2/3] END learning_rate=0.05, n_estimators=96;, score=0.899 total time=  49.5s\n",
      "[CV 24/24; 2/3] START learning_rate=0.05, n_estimators=96.......................\n",
      "[CV 24/24; 2/3] END learning_rate=0.05, n_estimators=96;, score=0.898 total time=  49.0s\n",
      "[CV 1/24; 3/3] START learning_rate=0.05, n_estimators=128.......................\n"
     ]
    },
    {
     "name": "stdout",
     "output_type": "stream",
     "text": [
      "[CV 1/24; 3/3] END learning_rate=0.05, n_estimators=128;, score=0.901 total time= 1.1min\n",
      "[CV 2/24; 3/3] START learning_rate=0.05, n_estimators=128.......................\n",
      "[CV 2/24; 3/3] END learning_rate=0.05, n_estimators=128;, score=0.900 total time= 1.1min\n",
      "[CV 3/24; 3/3] START learning_rate=0.05, n_estimators=128.......................\n",
      "[CV 3/24; 3/3] END learning_rate=0.05, n_estimators=128;, score=0.900 total time= 1.1min\n",
      "[CV 4/24; 3/3] START learning_rate=0.05, n_estimators=128.......................\n",
      "[CV 4/24; 3/3] END learning_rate=0.05, n_estimators=128;, score=0.900 total time= 1.1min\n",
      "[CV 5/24; 3/3] START learning_rate=0.05, n_estimators=128.......................\n",
      "[CV 5/24; 3/3] END learning_rate=0.05, n_estimators=128;, score=0.899 total time= 1.1min\n",
      "[CV 6/24; 3/3] START learning_rate=0.05, n_estimators=128.......................\n",
      "[CV 6/24; 3/3] END learning_rate=0.05, n_estimators=128;, score=0.900 total time= 1.1min\n",
      "[CV 7/24; 3/3] START learning_rate=0.05, n_estimators=128.......................\n",
      "[CV 7/24; 3/3] END learning_rate=0.05, n_estimators=128;, score=0.900 total time= 1.1min\n",
      "[CV 8/24; 3/3] START learning_rate=0.05, n_estimators=128.......................\n",
      "[CV 8/24; 3/3] END learning_rate=0.05, n_estimators=128;, score=0.900 total time= 1.1min\n",
      "[CV 9/24; 3/3] START learning_rate=0.05, n_estimators=128.......................\n",
      "[CV 9/24; 3/3] END learning_rate=0.05, n_estimators=128;, score=0.901 total time= 1.1min\n",
      "[CV 10/24; 3/3] START learning_rate=0.05, n_estimators=128......................\n",
      "[CV 10/24; 3/3] END learning_rate=0.05, n_estimators=128;, score=0.900 total time= 1.1min\n",
      "[CV 11/24; 3/3] START learning_rate=0.05, n_estimators=128......................\n",
      "[CV 11/24; 3/3] END learning_rate=0.05, n_estimators=128;, score=0.901 total time= 1.1min\n",
      "[CV 12/24; 3/3] START learning_rate=0.05, n_estimators=128......................\n",
      "[CV 12/24; 3/3] END learning_rate=0.05, n_estimators=128;, score=0.900 total time= 1.1min\n",
      "[CV 13/24; 3/3] START learning_rate=0.05, n_estimators=128......................\n",
      "[CV 13/24; 3/3] END learning_rate=0.05, n_estimators=128;, score=0.901 total time= 1.1min\n",
      "[CV 14/24; 3/3] START learning_rate=0.05, n_estimators=128......................\n",
      "[CV 14/24; 3/3] END learning_rate=0.05, n_estimators=128;, score=0.899 total time= 1.1min\n",
      "[CV 15/24; 3/3] START learning_rate=0.05, n_estimators=128......................\n",
      "[CV 15/24; 3/3] END learning_rate=0.05, n_estimators=128;, score=0.900 total time= 1.1min\n",
      "[CV 16/24; 3/3] START learning_rate=0.05, n_estimators=128......................\n",
      "[CV 16/24; 3/3] END learning_rate=0.05, n_estimators=128;, score=0.899 total time= 1.1min\n",
      "[CV 17/24; 3/3] START learning_rate=0.05, n_estimators=128......................\n",
      "[CV 17/24; 3/3] END learning_rate=0.05, n_estimators=128;, score=0.900 total time= 1.1min\n",
      "[CV 18/24; 3/3] START learning_rate=0.05, n_estimators=128......................\n",
      "[CV 18/24; 3/3] END learning_rate=0.05, n_estimators=128;, score=0.900 total time= 1.1min\n",
      "[CV 19/24; 3/3] START learning_rate=0.05, n_estimators=128......................\n",
      "[CV 19/24; 3/3] END learning_rate=0.05, n_estimators=128;, score=0.900 total time= 1.1min\n",
      "[CV 20/24; 3/3] START learning_rate=0.05, n_estimators=128......................\n",
      "[CV 20/24; 3/3] END learning_rate=0.05, n_estimators=128;, score=0.900 total time= 1.1min\n",
      "[CV 21/24; 3/3] START learning_rate=0.05, n_estimators=128......................\n",
      "[CV 21/24; 3/3] END learning_rate=0.05, n_estimators=128;, score=0.900 total time= 1.1min\n",
      "[CV 22/24; 3/3] START learning_rate=0.05, n_estimators=128......................\n",
      "[CV 22/24; 3/3] END learning_rate=0.05, n_estimators=128;, score=0.901 total time= 1.1min\n",
      "[CV 23/24; 3/3] START learning_rate=0.05, n_estimators=128......................\n",
      "[CV 23/24; 3/3] END learning_rate=0.05, n_estimators=128;, score=0.900 total time= 1.1min\n",
      "[CV 24/24; 3/3] START learning_rate=0.05, n_estimators=128......................\n",
      "[CV 24/24; 3/3] END learning_rate=0.05, n_estimators=128;, score=0.899 total time= 1.1min\n"
     ]
    },
    {
     "data": {
      "text/html": [
       "<style>#sk-container-id-3 {color: black;background-color: white;}#sk-container-id-3 pre{padding: 0;}#sk-container-id-3 div.sk-toggleable {background-color: white;}#sk-container-id-3 label.sk-toggleable__label {cursor: pointer;display: block;width: 100%;margin-bottom: 0;padding: 0.3em;box-sizing: border-box;text-align: center;}#sk-container-id-3 label.sk-toggleable__label-arrow:before {content: \"▸\";float: left;margin-right: 0.25em;color: #696969;}#sk-container-id-3 label.sk-toggleable__label-arrow:hover:before {color: black;}#sk-container-id-3 div.sk-estimator:hover label.sk-toggleable__label-arrow:before {color: black;}#sk-container-id-3 div.sk-toggleable__content {max-height: 0;max-width: 0;overflow: hidden;text-align: left;background-color: #f0f8ff;}#sk-container-id-3 div.sk-toggleable__content pre {margin: 0.2em;color: black;border-radius: 0.25em;background-color: #f0f8ff;}#sk-container-id-3 input.sk-toggleable__control:checked~div.sk-toggleable__content {max-height: 200px;max-width: 100%;overflow: auto;}#sk-container-id-3 input.sk-toggleable__control:checked~label.sk-toggleable__label-arrow:before {content: \"▾\";}#sk-container-id-3 div.sk-estimator input.sk-toggleable__control:checked~label.sk-toggleable__label {background-color: #d4ebff;}#sk-container-id-3 div.sk-label input.sk-toggleable__control:checked~label.sk-toggleable__label {background-color: #d4ebff;}#sk-container-id-3 input.sk-hidden--visually {border: 0;clip: rect(1px 1px 1px 1px);clip: rect(1px, 1px, 1px, 1px);height: 1px;margin: -1px;overflow: hidden;padding: 0;position: absolute;width: 1px;}#sk-container-id-3 div.sk-estimator {font-family: monospace;background-color: #f0f8ff;border: 1px dotted black;border-radius: 0.25em;box-sizing: border-box;margin-bottom: 0.5em;}#sk-container-id-3 div.sk-estimator:hover {background-color: #d4ebff;}#sk-container-id-3 div.sk-parallel-item::after {content: \"\";width: 100%;border-bottom: 1px solid gray;flex-grow: 1;}#sk-container-id-3 div.sk-label:hover label.sk-toggleable__label {background-color: #d4ebff;}#sk-container-id-3 div.sk-serial::before {content: \"\";position: absolute;border-left: 1px solid gray;box-sizing: border-box;top: 0;bottom: 0;left: 50%;z-index: 0;}#sk-container-id-3 div.sk-serial {display: flex;flex-direction: column;align-items: center;background-color: white;padding-right: 0.2em;padding-left: 0.2em;position: relative;}#sk-container-id-3 div.sk-item {position: relative;z-index: 1;}#sk-container-id-3 div.sk-parallel {display: flex;align-items: stretch;justify-content: center;background-color: white;position: relative;}#sk-container-id-3 div.sk-item::before, #sk-container-id-3 div.sk-parallel-item::before {content: \"\";position: absolute;border-left: 1px solid gray;box-sizing: border-box;top: 0;bottom: 0;left: 50%;z-index: -1;}#sk-container-id-3 div.sk-parallel-item {display: flex;flex-direction: column;z-index: 1;position: relative;background-color: white;}#sk-container-id-3 div.sk-parallel-item:first-child::after {align-self: flex-end;width: 50%;}#sk-container-id-3 div.sk-parallel-item:last-child::after {align-self: flex-start;width: 50%;}#sk-container-id-3 div.sk-parallel-item:only-child::after {width: 0;}#sk-container-id-3 div.sk-dashed-wrapped {border: 1px dashed gray;margin: 0 0.4em 0.5em 0.4em;box-sizing: border-box;padding-bottom: 0.4em;background-color: white;}#sk-container-id-3 div.sk-label label {font-family: monospace;font-weight: bold;display: inline-block;line-height: 1.2em;}#sk-container-id-3 div.sk-label-container {text-align: center;}#sk-container-id-3 div.sk-container {/* jupyter's `normalize.less` sets `[hidden] { display: none; }` but bootstrap.min.css set `[hidden] { display: none !important; }` so we also need the `!important` here to be able to override the default hidden behavior on the sphinx rendered scikit-learn.org. See: https://github.com/scikit-learn/scikit-learn/issues/21755 */display: inline-block !important;position: relative;}#sk-container-id-3 div.sk-text-repr-fallback {display: none;}</style><div id=\"sk-container-id-3\" class=\"sk-top-container\"><div class=\"sk-text-repr-fallback\"><pre>GridSearchCV(cv=RepeatedStratifiedKFold(n_repeats=3, n_splits=8, random_state=1008),\n",
       "             estimator=XGBClassifier(base_score=None, booster=None,\n",
       "                                     callbacks=None, colsample_bylevel=None,\n",
       "                                     colsample_bynode=None,\n",
       "                                     colsample_bytree=None,\n",
       "                                     early_stopping_rounds=None,\n",
       "                                     enable_categorical=False, eval_metric=None,\n",
       "                                     gamma=None, gpu_id=None, grow_policy=None,\n",
       "                                     importance_type=None,\n",
       "                                     int...\n",
       "                                     learning_rate=None, max_bin=None,\n",
       "                                     max_cat_to_onehot=None,\n",
       "                                     max_delta_step=None, max_depth=None,\n",
       "                                     max_leaves=None, min_child_weight=None,\n",
       "                                     missing=nan, monotone_constraints=None,\n",
       "                                     n_estimators=100, n_jobs=None,\n",
       "                                     num_parallel_tree=None, predictor=None,\n",
       "                                     random_state=None, reg_alpha=None,\n",
       "                                     reg_lambda=None, ...),\n",
       "             n_jobs=1,\n",
       "             param_grid={&#x27;learning_rate&#x27;: [0.05],\n",
       "                         &#x27;n_estimators&#x27;: [64, 96, 128]},\n",
       "             verbose=10)</pre><b>In a Jupyter environment, please rerun this cell to show the HTML representation or trust the notebook. <br />On GitHub, the HTML representation is unable to render, please try loading this page with nbviewer.org.</b></div><div class=\"sk-container\" hidden><div class=\"sk-item sk-dashed-wrapped\"><div class=\"sk-label-container\"><div class=\"sk-label sk-toggleable\"><input class=\"sk-toggleable__control sk-hidden--visually\" id=\"sk-estimator-id-5\" type=\"checkbox\" ><label for=\"sk-estimator-id-5\" class=\"sk-toggleable__label sk-toggleable__label-arrow\">GridSearchCV</label><div class=\"sk-toggleable__content\"><pre>GridSearchCV(cv=RepeatedStratifiedKFold(n_repeats=3, n_splits=8, random_state=1008),\n",
       "             estimator=XGBClassifier(base_score=None, booster=None,\n",
       "                                     callbacks=None, colsample_bylevel=None,\n",
       "                                     colsample_bynode=None,\n",
       "                                     colsample_bytree=None,\n",
       "                                     early_stopping_rounds=None,\n",
       "                                     enable_categorical=False, eval_metric=None,\n",
       "                                     gamma=None, gpu_id=None, grow_policy=None,\n",
       "                                     importance_type=None,\n",
       "                                     int...\n",
       "                                     learning_rate=None, max_bin=None,\n",
       "                                     max_cat_to_onehot=None,\n",
       "                                     max_delta_step=None, max_depth=None,\n",
       "                                     max_leaves=None, min_child_weight=None,\n",
       "                                     missing=nan, monotone_constraints=None,\n",
       "                                     n_estimators=100, n_jobs=None,\n",
       "                                     num_parallel_tree=None, predictor=None,\n",
       "                                     random_state=None, reg_alpha=None,\n",
       "                                     reg_lambda=None, ...),\n",
       "             n_jobs=1,\n",
       "             param_grid={&#x27;learning_rate&#x27;: [0.05],\n",
       "                         &#x27;n_estimators&#x27;: [64, 96, 128]},\n",
       "             verbose=10)</pre></div></div></div><div class=\"sk-parallel\"><div class=\"sk-parallel-item\"><div class=\"sk-item\"><div class=\"sk-label-container\"><div class=\"sk-label sk-toggleable\"><input class=\"sk-toggleable__control sk-hidden--visually\" id=\"sk-estimator-id-6\" type=\"checkbox\" ><label for=\"sk-estimator-id-6\" class=\"sk-toggleable__label sk-toggleable__label-arrow\">estimator: XGBClassifier</label><div class=\"sk-toggleable__content\"><pre>XGBClassifier(base_score=None, booster=None, callbacks=None,\n",
       "              colsample_bylevel=None, colsample_bynode=None,\n",
       "              colsample_bytree=None, early_stopping_rounds=None,\n",
       "              enable_categorical=False, eval_metric=None, gamma=None,\n",
       "              gpu_id=None, grow_policy=None, importance_type=None,\n",
       "              interaction_constraints=None, learning_rate=None, max_bin=None,\n",
       "              max_cat_to_onehot=None, max_delta_step=None, max_depth=None,\n",
       "              max_leaves=None, min_child_weight=None, missing=nan,\n",
       "              monotone_constraints=None, n_estimators=100, n_jobs=None,\n",
       "              num_parallel_tree=None, predictor=None, random_state=None,\n",
       "              reg_alpha=None, reg_lambda=None, ...)</pre></div></div></div><div class=\"sk-serial\"><div class=\"sk-item\"><div class=\"sk-estimator sk-toggleable\"><input class=\"sk-toggleable__control sk-hidden--visually\" id=\"sk-estimator-id-7\" type=\"checkbox\" ><label for=\"sk-estimator-id-7\" class=\"sk-toggleable__label sk-toggleable__label-arrow\">XGBClassifier</label><div class=\"sk-toggleable__content\"><pre>XGBClassifier(base_score=None, booster=None, callbacks=None,\n",
       "              colsample_bylevel=None, colsample_bynode=None,\n",
       "              colsample_bytree=None, early_stopping_rounds=None,\n",
       "              enable_categorical=False, eval_metric=None, gamma=None,\n",
       "              gpu_id=None, grow_policy=None, importance_type=None,\n",
       "              interaction_constraints=None, learning_rate=None, max_bin=None,\n",
       "              max_cat_to_onehot=None, max_delta_step=None, max_depth=None,\n",
       "              max_leaves=None, min_child_weight=None, missing=nan,\n",
       "              monotone_constraints=None, n_estimators=100, n_jobs=None,\n",
       "              num_parallel_tree=None, predictor=None, random_state=None,\n",
       "              reg_alpha=None, reg_lambda=None, ...)</pre></div></div></div></div></div></div></div></div></div></div>"
      ],
      "text/plain": [
       "GridSearchCV(cv=RepeatedStratifiedKFold(n_repeats=3, n_splits=8, random_state=1008),\n",
       "             estimator=XGBClassifier(base_score=None, booster=None,\n",
       "                                     callbacks=None, colsample_bylevel=None,\n",
       "                                     colsample_bynode=None,\n",
       "                                     colsample_bytree=None,\n",
       "                                     early_stopping_rounds=None,\n",
       "                                     enable_categorical=False, eval_metric=None,\n",
       "                                     gamma=None, gpu_id=None, grow_policy=None,\n",
       "                                     importance_type=None,\n",
       "                                     int...\n",
       "                                     learning_rate=None, max_bin=None,\n",
       "                                     max_cat_to_onehot=None,\n",
       "                                     max_delta_step=None, max_depth=None,\n",
       "                                     max_leaves=None, min_child_weight=None,\n",
       "                                     missing=nan, monotone_constraints=None,\n",
       "                                     n_estimators=100, n_jobs=None,\n",
       "                                     num_parallel_tree=None, predictor=None,\n",
       "                                     random_state=None, reg_alpha=None,\n",
       "                                     reg_lambda=None, ...),\n",
       "             n_jobs=1,\n",
       "             param_grid={'learning_rate': [0.05],\n",
       "                         'n_estimators': [64, 96, 128]},\n",
       "             verbose=10)"
      ]
     },
     "execution_count": 144,
     "metadata": {},
     "output_type": "execute_result"
    }
   ],
   "source": [
    "xgb_cv.fit(X_train, y_train)#Do NOT retrain!"
   ]
  },
  {
   "cell_type": "code",
   "execution_count": 146,
   "id": "2d89d323",
   "metadata": {},
   "outputs": [
    {
     "data": {
      "text/plain": [
       "{'learning_rate': 0.05, 'n_estimators': 128}"
      ]
     },
     "execution_count": 146,
     "metadata": {},
     "output_type": "execute_result"
    }
   ],
   "source": [
    "xgboost_best = xgb_cv.best_estimator_\n",
    "xgb_cv.best_params_"
   ]
  },
  {
   "cell_type": "code",
   "execution_count": 166,
   "id": "dd7c5d35",
   "metadata": {},
   "outputs": [],
   "source": [
    "xgboost_best = pickle.load(open('xgboost.sav','rb'))"
   ]
  },
  {
   "cell_type": "code",
   "execution_count": 167,
   "id": "1f599052",
   "metadata": {},
   "outputs": [
    {
     "data": {
      "text/plain": [
       "0.9002356289809768"
      ]
     },
     "execution_count": 167,
     "metadata": {},
     "output_type": "execute_result"
    }
   ],
   "source": [
    "xgboost_best.score(X_train,y_train)"
   ]
  },
  {
   "cell_type": "code",
   "execution_count": 168,
   "id": "76ec5773",
   "metadata": {},
   "outputs": [
    {
     "data": {
      "text/plain": [
       "0.9003455962897243"
      ]
     },
     "execution_count": 168,
     "metadata": {},
     "output_type": "execute_result"
    }
   ],
   "source": [
    "xgboost_best.score(X_test,y_test)"
   ]
  },
  {
   "cell_type": "code",
   "execution_count": 149,
   "id": "f00b0bab",
   "metadata": {},
   "outputs": [],
   "source": [
    "y_pred_xgb = xgboost_best.predict(X_test)"
   ]
  },
  {
   "cell_type": "code",
   "execution_count": 150,
   "id": "fb0ed091",
   "metadata": {},
   "outputs": [],
   "source": [
    "cm = confusion_matrix(y_test, y_pred_xgb)"
   ]
  },
  {
   "cell_type": "code",
   "execution_count": 152,
   "id": "06d507be",
   "metadata": {},
   "outputs": [
    {
     "name": "stdout",
     "output_type": "stream",
     "text": [
      "              precision    recall  f1-score   support\n",
      "\n",
      "         0.0       0.88      0.92      0.90    312214\n",
      "         1.0       0.91      0.88      0.90    312214\n",
      "\n",
      "    accuracy                           0.90    624428\n",
      "   macro avg       0.90      0.90      0.90    624428\n",
      "weighted avg       0.90      0.90      0.90    624428\n",
      "\n"
     ]
    }
   ],
   "source": [
    "print(classification_report(y_test, y_pred_adb))"
   ]
  },
  {
   "cell_type": "code",
   "execution_count": 169,
   "id": "68903c56",
   "metadata": {},
   "outputs": [
    {
     "data": {
      "image/png": "[encoded data removed]",
      "text/plain": [
       "<Figure size 640x480 with 2 Axes>"
      ]
     },
     "metadata": {},
     "output_type": "display_data"
    }
   ],
   "source": [
    "fig, ax = plot_confusion_matrix(conf_mat=cm,cmap='inferno_r',colorbar=True)\n",
    "plt.title('Confusion Matrix for XGBoost Classifier (Delay - 1, No Delay - 0)')\n",
    "plt.show()"
   ]
  },
  {
   "cell_type": "code",
   "execution_count": 154,
   "id": "88f6eab2",
   "metadata": {},
   "outputs": [
    {
     "name": "stdout",
     "output_type": "stream",
     "text": [
      "AUC % = 0.9602378912608699\n"
     ]
    },
    {
     "data": {
      "image/png": "[encoded data removed]",
      "text/plain": [
       "<Figure size 640x480 with 1 Axes>"
      ]
     },
     "metadata": {},
     "output_type": "display_data"
    }
   ],
   "source": [
    "probs = xgboost_best.predict_proba(X_test)  \n",
    "probs = probs[:, 1] \n",
    "fper, tper, thresholds = roc_curve(y_test, probs) \n",
    "plt.plot(fper, tper)\n",
    "print('AUC % = {}'.format(auc(fper, tper)))\n",
    "plt.plot([0,1], [0,1], 'k--')\n",
    "plt.xlabel('False Positive Rate')\n",
    "plt.ylabel('True Positive Rate')\n",
    "plt.title('XGBoost ROC curve ')\n",
    "# show the plot\n",
    "plt.show()"
   ]
  },
  {
   "cell_type": "code",
   "execution_count": 164,
   "id": "fa19f1de",
   "metadata": {},
   "outputs": [],
   "source": [
    "pickle.dump(adaboost_best, open('adaboost.sav', 'wb'))"
   ]
  },
  {
   "cell_type": "code",
   "execution_count": 165,
   "id": "2a517987",
   "metadata": {},
   "outputs": [],
   "source": [
    "pickle.dump(xgboost_best, open('xgboost.sav', 'wb'))"
   ]
  },
  {
   "cell_type": "code",
   "execution_count": null,
   "id": "f3be2558",
   "metadata": {},
   "outputs": [],
   "source": []
  },
  {
   "cell_type": "code",
   "execution_count": null,
   "id": "5eaf2188",
   "metadata": {},
   "outputs": [],
   "source": []
  }
 ],
 "metadata": {
  "kernelspec": {
   "display_name": "Python 3 (ipykernel)",
   "language": "python",
   "name": "python3"
  },
  "language_info": {
   "codemirror_mode": {
    "name": "ipython",
    "version": 3
   },
   "file_extension": ".py",
   "mimetype": "text/x-python",
   "name": "python",
   "nbconvert_exporter": "python",
   "pygments_lexer": "ipython3",
   "version": "3.9.6"
  }
 },
 "nbformat": 4,
 "nbformat_minor": 5
}
